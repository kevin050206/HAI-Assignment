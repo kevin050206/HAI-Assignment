{
 "cells": [
  {
   "cell_type": "code",
   "execution_count": 4,
   "id": "63164c70",
   "metadata": {},
   "outputs": [
    {
     "name": "stdout",
     "output_type": "stream",
     "text": [
      "tensor1:\n",
      "tensor([[[0.5116, 0.9111, 0.2903, 0.6592],\n",
      "         [0.0165, 0.9302, 0.2755, 0.6278],\n",
      "         [0.5906, 0.9373, 0.1015, 0.9633]],\n",
      "\n",
      "        [[0.8917, 0.6247, 0.9708, 0.3969],\n",
      "         [0.3173, 0.6415, 0.9486, 0.4939],\n",
      "         [0.1194, 0.5744, 0.7900, 0.6929]]])\n",
      "\n",
      "numpy array:\n",
      "[[[1. 1. 1. 1. 1.]\n",
      "  [1. 1. 1. 1. 1.]\n",
      "  [1. 1. 1. 1. 1.]\n",
      "  [1. 1. 1. 1. 1.]]\n",
      "\n",
      " [[1. 1. 1. 1. 1.]\n",
      "  [1. 1. 1. 1. 1.]\n",
      "  [1. 1. 1. 1. 1.]\n",
      "  [1. 1. 1. 1. 1.]]]\n",
      "\n",
      "tensor2 (converted from numpy)\n",
      "tensor([[[1., 1., 1., 1., 1.],\n",
      "         [1., 1., 1., 1., 1.],\n",
      "         [1., 1., 1., 1., 1.],\n",
      "         [1., 1., 1., 1., 1.]],\n",
      "\n",
      "        [[1., 1., 1., 1., 1.],\n",
      "         [1., 1., 1., 1., 1.],\n",
      "         [1., 1., 1., 1., 1.],\n",
      "         [1., 1., 1., 1., 1.]]])\n",
      "\n",
      "result tensor:\n",
      "tensor([[[2.3722, 2.3722, 2.3722, 2.3722, 2.3722],\n",
      "         [1.8501, 1.8501, 1.8501, 1.8501, 1.8501],\n",
      "         [2.5928, 2.5928, 2.5928, 2.5928, 2.5928]],\n",
      "\n",
      "        [[2.8841, 2.8841, 2.8841, 2.8841, 2.8841],\n",
      "         [2.4013, 2.4013, 2.4013, 2.4013, 2.4013],\n",
      "         [2.1767, 2.1767, 2.1767, 2.1767, 2.1767]]])\n",
      "\n",
      "result tensor shape: torch.Size([2, 3, 5])\n",
      "result tensor dtype torch.float32\n"
     ]
    }
   ],
   "source": [
    "import torch\n",
    "import numpy as np\n",
    "\n",
    "tensor1 = torch.rand(2, 3, 4)\n",
    "print(\"tensor1:\")\n",
    "print(tensor1)\n",
    "\n",
    "np_array = np.ones((2, 4, 5), dtype = np.float32)\n",
    "print(\"\\nnumpy array:\")\n",
    "print(np_array)\n",
    "\n",
    "tensor2 = torch.tensor(np_array)\n",
    "print(\"\\ntensor2 (converted from numpy)\")\n",
    "print(tensor2)\n",
    "\n",
    "result = torch.bmm(tensor1, tensor2)\n",
    "print(\"\\nresult tensor:\")\n",
    "print(result)\n",
    "\n",
    "print(\"\\nresult tensor shape:\", result.shape)\n",
    "print(\"result tensor dtype\", result.dtype)"
   ]
  },
  {
   "cell_type": "code",
   "execution_count": 5,
   "id": "32beecee",
   "metadata": {},
   "outputs": [
    {
     "name": "stdout",
     "output_type": "stream",
     "text": [
      "torch.Size([2, 3, 5])\n",
      "torch.float32\n"
     ]
    }
   ],
   "source": [
    "import torch\n",
    "import numpy as np\n",
    "\n",
    "t1 = torch.rand(2, 3, 4)\n",
    "\n",
    "n = np.ones((2, 4, 5), dtype = np.float32)\n",
    "\n",
    "t2 = torch.from_numpy(n)\n",
    "\n",
    "t3 = torch.matmul(t1, t2)\n",
    "\n",
    "print(t3.shape)\n",
    "print(t3.dtype)"
   ]
  }
 ],
 "metadata": {
  "kernelspec": {
   "display_name": "myenv",
   "language": "python",
   "name": "python3"
  },
  "language_info": {
   "codemirror_mode": {
    "name": "ipython",
    "version": 3
   },
   "file_extension": ".py",
   "mimetype": "text/x-python",
   "name": "python",
   "nbconvert_exporter": "python",
   "pygments_lexer": "ipython3",
   "version": "3.10.16"
  }
 },
 "nbformat": 4,
 "nbformat_minor": 5
}
